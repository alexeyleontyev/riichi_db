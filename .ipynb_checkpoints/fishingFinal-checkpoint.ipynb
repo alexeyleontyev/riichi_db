{
 "cells": [
  {
   "cell_type": "code",
   "execution_count": 1,
   "metadata": {},
   "outputs": [],
   "source": [
    "import codecs\n",
    "import sqlite3\n",
    "import pandas as pd\n",
    "import matplotlib.pyplot as plt\n",
    "%matplotlib inline"
   ]
  },
  {
   "cell_type": "code",
   "execution_count": 2,
   "metadata": {},
   "outputs": [],
   "source": [
    "base = sqlite3.connect ('fishing.db')"
   ]
  },
  {
   "cell_type": "code",
   "execution_count": 3,
   "metadata": {},
   "outputs": [],
   "source": [
    "df = pd.read_sql(\"select g.gd,g.bet,s.player_name,s.place,s.points from score s join game g on s.game_id = g.id\", base)"
   ]
  },
  {
   "cell_type": "code",
   "execution_count": 4,
   "metadata": {},
   "outputs": [],
   "source": [
    "df.gd = df.gd.apply(pd.to_datetime)"
   ]
  },
  {
   "cell_type": "markdown",
   "metadata": {},
   "source": [
    "# Определение очков за уму"
   ]
  },
  {
   "cell_type": "code",
   "execution_count": 5,
   "metadata": {},
   "outputs": [],
   "source": [
    "def uma(place):\n",
    "    if place ==1:\n",
    "        u = 25000\n",
    "    elif place ==2:\n",
    "        u = 10000\n",
    "    elif place ==3:\n",
    "        u = -10000\n",
    "    elif place ==4:\n",
    "        u= -25000\n",
    "    return u"
   ]
  },
  {
   "cell_type": "markdown",
   "metadata": {},
   "source": [
    "# Выбираем период расчета"
   ]
  },
  {
   "cell_type": "code",
   "execution_count": 6,
   "metadata": {},
   "outputs": [],
   "source": [
    "df = df[df.gd > pd.datetime(2018,1,1)]"
   ]
  },
  {
   "cell_type": "markdown",
   "metadata": {},
   "source": [
    "# Определение выигранного вэлью за ханчан"
   ]
  },
  {
   "cell_type": "code",
   "execution_count": 7,
   "metadata": {},
   "outputs": [],
   "source": [
    "df['umapoints'] = df['place'].apply(uma)\n",
    "df['val'] = (df['bet']/100)*(((df['points']-25000+df['umapoints'])))"
   ]
  },
  {
   "cell_type": "markdown",
   "metadata": {},
   "source": [
    "# Расчет статистики по выигранному валуе и построение графика профита"
   ]
  },
  {
   "cell_type": "code",
   "execution_count": 8,
   "metadata": {
    "collapsed": true
   },
   "outputs": [
    {
     "data": {
      "text/html": [
       "<div>\n",
       "<style scoped>\n",
       "    .dataframe tbody tr th:only-of-type {\n",
       "        vertical-align: middle;\n",
       "    }\n",
       "\n",
       "    .dataframe tbody tr th {\n",
       "        vertical-align: top;\n",
       "    }\n",
       "\n",
       "    .dataframe thead th {\n",
       "        text-align: right;\n",
       "    }\n",
       "</style>\n",
       "<table border=\"1\" class=\"dataframe\">\n",
       "  <thead>\n",
       "    <tr style=\"text-align: right;\">\n",
       "      <th></th>\n",
       "      <th>place</th>\n",
       "    </tr>\n",
       "    <tr>\n",
       "      <th>player_name</th>\n",
       "      <th></th>\n",
       "    </tr>\n",
       "  </thead>\n",
       "  <tbody>\n",
       "    <tr>\n",
       "      <th>Усманов Рамиль</th>\n",
       "      <td>2.000000</td>\n",
       "    </tr>\n",
       "    <tr>\n",
       "      <th>Ким Евгений</th>\n",
       "      <td>2.090909</td>\n",
       "    </tr>\n",
       "    <tr>\n",
       "      <th>Козлов Виктор</th>\n",
       "      <td>2.250000</td>\n",
       "    </tr>\n",
       "    <tr>\n",
       "      <th>Алешин Сергей</th>\n",
       "      <td>2.263158</td>\n",
       "    </tr>\n",
       "    <tr>\n",
       "      <th>Леонтьев Алексей</th>\n",
       "      <td>2.313131</td>\n",
       "    </tr>\n",
       "    <tr>\n",
       "      <th>Павлов Георгий</th>\n",
       "      <td>2.327869</td>\n",
       "    </tr>\n",
       "    <tr>\n",
       "      <th>Проскурякова Ольга</th>\n",
       "      <td>2.356322</td>\n",
       "    </tr>\n",
       "    <tr>\n",
       "      <th>Гришин Виктор</th>\n",
       "      <td>2.379310</td>\n",
       "    </tr>\n",
       "    <tr>\n",
       "      <th>Сироткин Дмитрий</th>\n",
       "      <td>2.411765</td>\n",
       "    </tr>\n",
       "    <tr>\n",
       "      <th>Васильев Сергей</th>\n",
       "      <td>2.496503</td>\n",
       "    </tr>\n",
       "    <tr>\n",
       "      <th>Плясунов Владислав</th>\n",
       "      <td>2.522124</td>\n",
       "    </tr>\n",
       "    <tr>\n",
       "      <th>Гоголев Максим</th>\n",
       "      <td>2.571429</td>\n",
       "    </tr>\n",
       "    <tr>\n",
       "      <th>Черных Анастасия</th>\n",
       "      <td>2.573770</td>\n",
       "    </tr>\n",
       "    <tr>\n",
       "      <th>Богатиков Александр</th>\n",
       "      <td>2.600000</td>\n",
       "    </tr>\n",
       "    <tr>\n",
       "      <th>Горячева Елена</th>\n",
       "      <td>2.615385</td>\n",
       "    </tr>\n",
       "    <tr>\n",
       "      <th>Манджиев Арслан</th>\n",
       "      <td>2.657534</td>\n",
       "    </tr>\n",
       "    <tr>\n",
       "      <th>Ткаченко Никита</th>\n",
       "      <td>2.666667</td>\n",
       "    </tr>\n",
       "    <tr>\n",
       "      <th>Наданьян Владимир</th>\n",
       "      <td>2.680000</td>\n",
       "    </tr>\n",
       "    <tr>\n",
       "      <th>Петрущенко Сергей</th>\n",
       "      <td>2.704348</td>\n",
       "    </tr>\n",
       "    <tr>\n",
       "      <th>Смоленцев Виктор</th>\n",
       "      <td>2.857143</td>\n",
       "    </tr>\n",
       "    <tr>\n",
       "      <th>Гуркина Наталья</th>\n",
       "      <td>3.333333</td>\n",
       "    </tr>\n",
       "    <tr>\n",
       "      <th>Мартынов Иван</th>\n",
       "      <td>3.750000</td>\n",
       "    </tr>\n",
       "    <tr>\n",
       "      <th>Николаев Кирилл</th>\n",
       "      <td>4.000000</td>\n",
       "    </tr>\n",
       "    <tr>\n",
       "      <th>Чадова Елена</th>\n",
       "      <td>4.000000</td>\n",
       "    </tr>\n",
       "  </tbody>\n",
       "</table>\n",
       "</div>"
      ],
      "text/plain": [
       "                        place\n",
       "player_name                  \n",
       "Усманов Рамиль       2.000000\n",
       "Ким Евгений          2.090909\n",
       "Козлов Виктор        2.250000\n",
       "Алешин Сергей        2.263158\n",
       "Леонтьев Алексей     2.313131\n",
       "Павлов Георгий       2.327869\n",
       "Проскурякова Ольга   2.356322\n",
       "Гришин Виктор        2.379310\n",
       "Сироткин Дмитрий     2.411765\n",
       "Васильев Сергей      2.496503\n",
       "Плясунов Владислав   2.522124\n",
       "Гоголев Максим       2.571429\n",
       "Черных Анастасия     2.573770\n",
       "Богатиков Александр  2.600000\n",
       "Горячева Елена       2.615385\n",
       "Манджиев Арслан      2.657534\n",
       "Ткаченко Никита      2.666667\n",
       "Наданьян Владимир    2.680000\n",
       "Петрущенко Сергей    2.704348\n",
       "Смоленцев Виктор     2.857143\n",
       "Гуркина Наталья      3.333333\n",
       "Мартынов Иван        3.750000\n",
       "Николаев Кирилл      4.000000\n",
       "Чадова Елена         4.000000"
      ]
     },
     "execution_count": 8,
     "metadata": {},
     "output_type": "execute_result"
    }
   ],
   "source": [
    "#среднее место\n",
    "df_avg = df.drop(df.columns[[1,4,5,6]],1)\n",
    "df_avg = df_avg.groupby('player_name').mean()\n",
    "df_avg.sort_values('place', ascending = True)"
   ]
  },
  {
   "cell_type": "code",
   "execution_count": 9,
   "metadata": {
    "scrolled": true
   },
   "outputs": [
    {
     "data": {
      "text/html": [
       "<div>\n",
       "<style scoped>\n",
       "    .dataframe tbody tr th:only-of-type {\n",
       "        vertical-align: middle;\n",
       "    }\n",
       "\n",
       "    .dataframe tbody tr th {\n",
       "        vertical-align: top;\n",
       "    }\n",
       "\n",
       "    .dataframe thead th {\n",
       "        text-align: right;\n",
       "    }\n",
       "</style>\n",
       "<table border=\"1\" class=\"dataframe\">\n",
       "  <thead>\n",
       "    <tr style=\"text-align: right;\">\n",
       "      <th></th>\n",
       "      <th>val</th>\n",
       "    </tr>\n",
       "    <tr>\n",
       "      <th>player_name</th>\n",
       "      <th></th>\n",
       "    </tr>\n",
       "  </thead>\n",
       "  <tbody>\n",
       "    <tr>\n",
       "      <th>Алешин Сергей</th>\n",
       "      <td>29275.0</td>\n",
       "    </tr>\n",
       "    <tr>\n",
       "      <th>Леонтьев Алексей</th>\n",
       "      <td>16302.0</td>\n",
       "    </tr>\n",
       "    <tr>\n",
       "      <th>Гришин Виктор</th>\n",
       "      <td>13762.0</td>\n",
       "    </tr>\n",
       "    <tr>\n",
       "      <th>Проскурякова Ольга</th>\n",
       "      <td>12326.0</td>\n",
       "    </tr>\n",
       "    <tr>\n",
       "      <th>Павлов Георгий</th>\n",
       "      <td>11706.0</td>\n",
       "    </tr>\n",
       "    <tr>\n",
       "      <th>Ким Евгений</th>\n",
       "      <td>4932.0</td>\n",
       "    </tr>\n",
       "    <tr>\n",
       "      <th>Усманов Рамиль</th>\n",
       "      <td>1170.0</td>\n",
       "    </tr>\n",
       "    <tr>\n",
       "      <th>Козлов Виктор</th>\n",
       "      <td>1044.0</td>\n",
       "    </tr>\n",
       "    <tr>\n",
       "      <th>Сироткин Дмитрий</th>\n",
       "      <td>161.0</td>\n",
       "    </tr>\n",
       "    <tr>\n",
       "      <th>Николаев Кирилл</th>\n",
       "      <td>-512.0</td>\n",
       "    </tr>\n",
       "    <tr>\n",
       "      <th>Богатиков Александр</th>\n",
       "      <td>-612.0</td>\n",
       "    </tr>\n",
       "    <tr>\n",
       "      <th>Ткаченко Никита</th>\n",
       "      <td>-1043.0</td>\n",
       "    </tr>\n",
       "    <tr>\n",
       "      <th>Плясунов Владислав</th>\n",
       "      <td>-1623.0</td>\n",
       "    </tr>\n",
       "    <tr>\n",
       "      <th>Гуркина Наталья</th>\n",
       "      <td>-2082.0</td>\n",
       "    </tr>\n",
       "    <tr>\n",
       "      <th>Чадова Елена</th>\n",
       "      <td>-2637.0</td>\n",
       "    </tr>\n",
       "    <tr>\n",
       "      <th>Горячева Елена</th>\n",
       "      <td>-2916.0</td>\n",
       "    </tr>\n",
       "    <tr>\n",
       "      <th>Наданьян Владимир</th>\n",
       "      <td>-4198.0</td>\n",
       "    </tr>\n",
       "    <tr>\n",
       "      <th>Васильев Сергей</th>\n",
       "      <td>-4371.0</td>\n",
       "    </tr>\n",
       "    <tr>\n",
       "      <th>Мартынов Иван</th>\n",
       "      <td>-4380.0</td>\n",
       "    </tr>\n",
       "    <tr>\n",
       "      <th>Гоголев Максим</th>\n",
       "      <td>-6633.0</td>\n",
       "    </tr>\n",
       "    <tr>\n",
       "      <th>Смоленцев Виктор</th>\n",
       "      <td>-10428.0</td>\n",
       "    </tr>\n",
       "    <tr>\n",
       "      <th>Черных Анастасия</th>\n",
       "      <td>-12465.0</td>\n",
       "    </tr>\n",
       "    <tr>\n",
       "      <th>Манджиев Арслан</th>\n",
       "      <td>-12691.0</td>\n",
       "    </tr>\n",
       "    <tr>\n",
       "      <th>Петрущенко Сергей</th>\n",
       "      <td>-24087.0</td>\n",
       "    </tr>\n",
       "  </tbody>\n",
       "</table>\n",
       "</div>"
      ],
      "text/plain": [
       "                         val\n",
       "player_name                 \n",
       "Алешин Сергей        29275.0\n",
       "Леонтьев Алексей     16302.0\n",
       "Гришин Виктор        13762.0\n",
       "Проскурякова Ольга   12326.0\n",
       "Павлов Георгий       11706.0\n",
       "Ким Евгений           4932.0\n",
       "Усманов Рамиль        1170.0\n",
       "Козлов Виктор         1044.0\n",
       "Сироткин Дмитрий       161.0\n",
       "Николаев Кирилл       -512.0\n",
       "Богатиков Александр   -612.0\n",
       "Ткаченко Никита      -1043.0\n",
       "Плясунов Владислав   -1623.0\n",
       "Гуркина Наталья      -2082.0\n",
       "Чадова Елена         -2637.0\n",
       "Горячева Елена       -2916.0\n",
       "Наданьян Владимир    -4198.0\n",
       "Васильев Сергей      -4371.0\n",
       "Мартынов Иван        -4380.0\n",
       "Гоголев Максим       -6633.0\n",
       "Смоленцев Виктор    -10428.0\n",
       "Черных Анастасия    -12465.0\n",
       "Манджиев Арслан     -12691.0\n",
       "Петрущенко Сергей   -24087.0"
      ]
     },
     "execution_count": 9,
     "metadata": {},
     "output_type": "execute_result"
    }
   ],
   "source": [
    "#подготовка датафрейма\n",
    "df_val = df.drop(df.columns[[1,3,4,5]],1)\n",
    "df_val_sum = df_val.groupby('player_name').sum()\n",
    "#общий профит\n",
    "df_val_sum.sort_values('val', ascending = False)"
   ]
  },
  {
   "cell_type": "code",
   "execution_count": 10,
   "metadata": {},
   "outputs": [
    {
     "data": {
      "text/plain": [
       "Черных Анастасия       244\n",
       "Васильев Сергей        143\n",
       "Петрущенко Сергей      115\n",
       "Алешин Сергей          114\n",
       "Плясунов Владислав     113\n",
       "Леонтьев Алексей        99\n",
       "Гришин Виктор           87\n",
       "Проскурякова Ольга      87\n",
       "Манджиев Арслан         73\n",
       "Павлов Георгий          61\n",
       "Сироткин Дмитрий        51\n",
       "Гоголев Максим          42\n",
       "Смоленцев Виктор        28\n",
       "Горячева Елена          26\n",
       "Наданьян Владимир       25\n",
       "Богатиков Александр     15\n",
       "Ким Евгений             11\n",
       "Ткаченко Никита          9\n",
       "Мартынов Иван            4\n",
       "Козлов Виктор            4\n",
       "Гуркина Наталья          3\n",
       "Усманов Рамиль           3\n",
       "Чадова Елена             2\n",
       "Николаев Кирилл          1\n",
       "Name: player_name, dtype: int64"
      ]
     },
     "execution_count": 10,
     "metadata": {},
     "output_type": "execute_result"
    }
   ],
   "source": [
    "#общее число ханчанов\n",
    "df_val['player_name'].value_counts()"
   ]
  },
  {
   "cell_type": "code",
   "execution_count": 11,
   "metadata": {},
   "outputs": [],
   "source": [
    "#по конкретному игроку и за период\n",
    "df_player = df_val[(df_val.player_name == u'Алешин Сергей') & (df_val.gd >= pd.datetime(2017,1,1))]\n",
    "#подготовительный расчет\n",
    "s =[]\n",
    "sum = 0\n",
    "for i in df_player['val']:\n",
    "    sum = sum + i \n",
    "    s.append(sum)"
   ]
  },
  {
   "cell_type": "code",
   "execution_count": 12,
   "metadata": {},
   "outputs": [
    {
     "data": {
      "text/plain": [
       "[<matplotlib.lines.Line2D at 0x10bb03eb8>]"
      ]
     },
     "execution_count": 12,
     "metadata": {},
     "output_type": "execute_result"
    },
    {
     "data": {
      "image/png": "[encoded data removed]",
      "text/plain": [
       "<matplotlib.figure.Figure at 0x10bb509b0>"
      ]
     },
     "metadata": {},
     "output_type": "display_data"
    }
   ],
   "source": [
    "#построение графика (х:ханчаны, у:валуе)\n",
    "plt.plot(s)"
   ]
  },
  {
   "cell_type": "code",
   "execution_count": null,
   "metadata": {
    "collapsed": true
   },
   "outputs": [],
   "source": []
  }
 ],
 "metadata": {
  "kernelspec": {
   "display_name": "Python 3",
   "language": "python",
   "name": "python3"
  },
  "language_info": {
   "codemirror_mode": {
    "name": "ipython",
    "version": 3
   },
   "file_extension": ".py",
   "mimetype": "text/x-python",
   "name": "python",
   "nbconvert_exporter": "python",
   "pygments_lexer": "ipython3",
   "version": "3.6.4"
  }
 },
 "nbformat": 4,
 "nbformat_minor": 2
}
