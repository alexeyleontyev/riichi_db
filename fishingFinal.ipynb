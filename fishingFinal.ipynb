{
 "cells": [
  {
   "cell_type": "code",
   "execution_count": 24,
   "metadata": {
    "collapsed": true
   },
   "outputs": [],
   "source": [
    "import codecs\n",
    "import sqlite3\n",
    "import pandas as pd\n",
    "import matplotlib.pyplot as plt\n",
    "%matplotlib inline"
   ]
  },
  {
   "cell_type": "code",
   "execution_count": 25,
   "metadata": {
    "collapsed": true
   },
   "outputs": [],
   "source": [
    "base = sqlite3.connect ('fishing.db')"
   ]
  },
  {
   "cell_type": "code",
   "execution_count": 26,
   "metadata": {
    "collapsed": true
   },
   "outputs": [],
   "source": [
    "df = pd.read_sql(\"select g.gd,g.bet,s.player_name,s.place,s.points from score s join game g on s.game_id = g.id\", base)"
   ]
  },
  {
   "cell_type": "code",
   "execution_count": 27,
   "metadata": {
    "collapsed": true
   },
   "outputs": [],
   "source": [
    "df.gd = df.gd.apply(pd.to_datetime)"
   ]
  },
  {
   "cell_type": "markdown",
   "metadata": {},
   "source": [
    "# Определение очков за уму"
   ]
  },
  {
   "cell_type": "code",
   "execution_count": 28,
   "metadata": {
    "collapsed": true
   },
   "outputs": [],
   "source": [
    "def uma(place):\n",
    "    if place ==1:\n",
    "        u = 25000\n",
    "    elif place ==2:\n",
    "        u = 10000\n",
    "    elif place ==3:\n",
    "        u = -10000\n",
    "    elif place ==4:\n",
    "        u= -25000\n",
    "    return u"
   ]
  },
  {
   "cell_type": "markdown",
   "metadata": {},
   "source": [
    "# Выбираем период расчета"
   ]
  },
  {
   "cell_type": "code",
   "execution_count": 29,
   "metadata": {
    "collapsed": true
   },
   "outputs": [],
   "source": [
    "df = df[df.gd > pd.datetime(2017,1,1)]"
   ]
  },
  {
   "cell_type": "markdown",
   "metadata": {},
   "source": [
    "# Определение выигранного вэлью за ханчан"
   ]
  },
  {
   "cell_type": "code",
   "execution_count": 30,
   "metadata": {
    "collapsed": true
   },
   "outputs": [],
   "source": [
    "df['umapoints'] = df['place'].apply(uma)\n",
    "df['val'] = (df['bet']/100)*(((df['points']-25000+df['umapoints'])))"
   ]
  },
  {
   "cell_type": "markdown",
   "metadata": {},
   "source": [
    "# Расчет статистики по выигранному валуе и построение графика профита"
   ]
  },
  {
   "cell_type": "code",
   "execution_count": 31,
   "metadata": {},
   "outputs": [
    {
     "data": {
      "text/html": [
       "<div>\n",
       "<style>\n",
       "    .dataframe thead tr:only-child th {\n",
       "        text-align: right;\n",
       "    }\n",
       "\n",
       "    .dataframe thead th {\n",
       "        text-align: left;\n",
       "    }\n",
       "\n",
       "    .dataframe tbody tr th {\n",
       "        vertical-align: top;\n",
       "    }\n",
       "</style>\n",
       "<table border=\"1\" class=\"dataframe\">\n",
       "  <thead>\n",
       "    <tr style=\"text-align: right;\">\n",
       "      <th></th>\n",
       "      <th>val</th>\n",
       "    </tr>\n",
       "    <tr>\n",
       "      <th>player_name</th>\n",
       "      <th></th>\n",
       "    </tr>\n",
       "  </thead>\n",
       "  <tbody>\n",
       "    <tr>\n",
       "      <th>Алешин Сергей</th>\n",
       "      <td>30650.0</td>\n",
       "    </tr>\n",
       "    <tr>\n",
       "      <th>Плясунов Владислав</th>\n",
       "      <td>27903.0</td>\n",
       "    </tr>\n",
       "    <tr>\n",
       "      <th>Васильев Сергей</th>\n",
       "      <td>19896.0</td>\n",
       "    </tr>\n",
       "    <tr>\n",
       "      <th>Гришин Виктор</th>\n",
       "      <td>14163.0</td>\n",
       "    </tr>\n",
       "    <tr>\n",
       "      <th>Сироткин Дмитрий</th>\n",
       "      <td>11130.0</td>\n",
       "    </tr>\n",
       "    <tr>\n",
       "      <th>Мартынов Иван</th>\n",
       "      <td>8760.0</td>\n",
       "    </tr>\n",
       "    <tr>\n",
       "      <th>Ким Евгений</th>\n",
       "      <td>5712.0</td>\n",
       "    </tr>\n",
       "    <tr>\n",
       "      <th>Троценко Филипп</th>\n",
       "      <td>5465.0</td>\n",
       "    </tr>\n",
       "    <tr>\n",
       "      <th>Леонтьев Алексей</th>\n",
       "      <td>5207.0</td>\n",
       "    </tr>\n",
       "    <tr>\n",
       "      <th>Белоусова Марина</th>\n",
       "      <td>4053.0</td>\n",
       "    </tr>\n",
       "    <tr>\n",
       "      <th>Ли Венлон</th>\n",
       "      <td>3116.0</td>\n",
       "    </tr>\n",
       "    <tr>\n",
       "      <th>Коновалов Михаил</th>\n",
       "      <td>1710.0</td>\n",
       "    </tr>\n",
       "    <tr>\n",
       "      <th>Афонин Михаил</th>\n",
       "      <td>1599.0</td>\n",
       "    </tr>\n",
       "    <tr>\n",
       "      <th>Жевленев Егор</th>\n",
       "      <td>1437.0</td>\n",
       "    </tr>\n",
       "    <tr>\n",
       "      <th>Козлов Виктор</th>\n",
       "      <td>1038.0</td>\n",
       "    </tr>\n",
       "    <tr>\n",
       "      <th>Кваша Илья</th>\n",
       "      <td>1025.0</td>\n",
       "    </tr>\n",
       "    <tr>\n",
       "      <th>Чечин Вадим</th>\n",
       "      <td>945.0</td>\n",
       "    </tr>\n",
       "    <tr>\n",
       "      <th>Усманов Рамиль</th>\n",
       "      <td>540.0</td>\n",
       "    </tr>\n",
       "    <tr>\n",
       "      <th>Кретов Никита</th>\n",
       "      <td>-87.0</td>\n",
       "    </tr>\n",
       "    <tr>\n",
       "      <th>Наданьян Владимир</th>\n",
       "      <td>-420.0</td>\n",
       "    </tr>\n",
       "    <tr>\n",
       "      <th>Богатиков Александр</th>\n",
       "      <td>-960.0</td>\n",
       "    </tr>\n",
       "    <tr>\n",
       "      <th>Ткаченко Никита</th>\n",
       "      <td>-5328.0</td>\n",
       "    </tr>\n",
       "    <tr>\n",
       "      <th>Гуркина Наталья</th>\n",
       "      <td>-5415.0</td>\n",
       "    </tr>\n",
       "    <tr>\n",
       "      <th>Павлов Георгий</th>\n",
       "      <td>-7332.0</td>\n",
       "    </tr>\n",
       "    <tr>\n",
       "      <th>Смоленцев Виктор</th>\n",
       "      <td>-7711.0</td>\n",
       "    </tr>\n",
       "    <tr>\n",
       "      <th>Манджиев Арслан</th>\n",
       "      <td>-12266.0</td>\n",
       "    </tr>\n",
       "    <tr>\n",
       "      <th>Проскурякова Ольга</th>\n",
       "      <td>-13083.0</td>\n",
       "    </tr>\n",
       "    <tr>\n",
       "      <th>Гоголев Максим</th>\n",
       "      <td>-24165.0</td>\n",
       "    </tr>\n",
       "    <tr>\n",
       "      <th>Черных Анастасия</th>\n",
       "      <td>-26944.0</td>\n",
       "    </tr>\n",
       "    <tr>\n",
       "      <th>Петрущенко Сергей</th>\n",
       "      <td>-40638.0</td>\n",
       "    </tr>\n",
       "  </tbody>\n",
       "</table>\n",
       "</div>"
      ],
      "text/plain": [
       "                         val\n",
       "player_name                 \n",
       "Алешин Сергей        30650.0\n",
       "Плясунов Владислав   27903.0\n",
       "Васильев Сергей      19896.0\n",
       "Гришин Виктор        14163.0\n",
       "Сироткин Дмитрий     11130.0\n",
       "Мартынов Иван         8760.0\n",
       "Ким Евгений           5712.0\n",
       "Троценко Филипп       5465.0\n",
       "Леонтьев Алексей      5207.0\n",
       "Белоусова Марина      4053.0\n",
       "Ли Венлон             3116.0\n",
       "Коновалов Михаил      1710.0\n",
       "Афонин Михаил         1599.0\n",
       "Жевленев Егор         1437.0\n",
       "Козлов Виктор         1038.0\n",
       "Кваша Илья            1025.0\n",
       "Чечин Вадим            945.0\n",
       "Усманов Рамиль         540.0\n",
       "Кретов Никита          -87.0\n",
       "Наданьян Владимир     -420.0\n",
       "Богатиков Александр   -960.0\n",
       "Ткаченко Никита      -5328.0\n",
       "Гуркина Наталья      -5415.0\n",
       "Павлов Георгий       -7332.0\n",
       "Смоленцев Виктор     -7711.0\n",
       "Манджиев Арслан     -12266.0\n",
       "Проскурякова Ольга  -13083.0\n",
       "Гоголев Максим      -24165.0\n",
       "Черных Анастасия    -26944.0\n",
       "Петрущенко Сергей   -40638.0"
      ]
     },
     "execution_count": 31,
     "metadata": {},
     "output_type": "execute_result"
    }
   ],
   "source": [
    "#подготовка датафрейма\n",
    "df_val = df.drop(df.columns[[1,3,4,5]],1)\n",
    "df_val_sum = df_val.groupby('player_name').sum()\n",
    "#общий профит\n",
    "df_val_sum.sort_values('val', ascending = False)"
   ]
  },
  {
   "cell_type": "code",
   "execution_count": 32,
   "metadata": {},
   "outputs": [
    {
     "data": {
      "text/plain": [
       "Черных Анастасия       410\n",
       "Леонтьев Алексей       319\n",
       "Васильев Сергей        283\n",
       "Петрущенко Сергей      282\n",
       "Плясунов Владислав     279\n",
       "Алешин Сергей          260\n",
       "Гришин Виктор          211\n",
       "Гоголев Максим         129\n",
       "Смоленцев Виктор        97\n",
       "Проскурякова Ольга      91\n",
       "Павлов Георгий          88\n",
       "Наданьян Владимир       67\n",
       "Сироткин Дмитрий        65\n",
       "Манджиев Арслан         59\n",
       "Ким Евгений             46\n",
       "Мартынов Иван           42\n",
       "Жевленев Егор           37\n",
       "Гуркина Наталья         24\n",
       "Усманов Рамиль          22\n",
       "Ткаченко Никита         20\n",
       "Козлов Виктор           12\n",
       "Коновалов Михаил        11\n",
       "Троценко Филипп          7\n",
       "Ли Венлон                6\n",
       "Белоусова Марина         6\n",
       "Кретов Никита            4\n",
       "Чечин Вадим              3\n",
       "Афонин Михаил            2\n",
       "Кваша Илья               1\n",
       "Богатиков Александр      1\n",
       "Name: player_name, dtype: int64"
      ]
     },
     "execution_count": 32,
     "metadata": {},
     "output_type": "execute_result"
    }
   ],
   "source": [
    "#общее число ханчанов\n",
    "df_val['player_name'].value_counts()"
   ]
  },
  {
   "cell_type": "code",
   "execution_count": 43,
   "metadata": {},
   "outputs": [],
   "source": [
    "#по конкретному игроку и за период\n",
    "df_player = df_val[(df_val.player_name == u'Васильев Сергей') & (df_val.gd >= pd.datetime(2017,1,1))]\n",
    "#подготовительный расчет\n",
    "s =[]\n",
    "sum = 0\n",
    "for i in df_player['val']:\n",
    "    sum = sum + i \n",
    "    s.append(sum)"
   ]
  },
  {
   "cell_type": "code",
   "execution_count": 44,
   "metadata": {},
   "outputs": [
    {
     "data": {
      "text/plain": [
       "[<matplotlib.lines.Line2D at 0x10fd62cd0>]"
      ]
     },
     "execution_count": 44,
     "metadata": {},
     "output_type": "execute_result"
    },
    {
     "data": {
      "image/png": "[encoded data removed]",
      "text/plain": [
       "<matplotlib.figure.Figure at 0x10fcd0750>"
      ]
     },
     "metadata": {},
     "output_type": "display_data"
    }
   ],
   "source": [
    "#построение графика (х:ханчаны, у:валуе)\n",
    "plt.plot(s)"
   ]
  },
  {
   "cell_type": "code",
   "execution_count": null,
   "metadata": {
    "collapsed": true
   },
   "outputs": [],
   "source": []
  }
 ],
 "metadata": {
  "kernelspec": {
   "display_name": "Python 2",
   "language": "python",
   "name": "python2"
  },
  "language_info": {
   "codemirror_mode": {
    "name": "ipython",
    "version": 2
   },
   "file_extension": ".py",
   "mimetype": "text/x-python",
   "name": "python",
   "nbconvert_exporter": "python",
   "pygments_lexer": "ipython2",
   "version": "2.7.13"
  }
 },
 "nbformat": 4,
 "nbformat_minor": 2
}
